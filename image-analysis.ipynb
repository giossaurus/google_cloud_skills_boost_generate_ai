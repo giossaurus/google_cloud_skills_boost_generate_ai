{
 "cells": [
  {
   "cell_type": "code",
   "execution_count": 2,
   "id": "46f6b4ff-6178-408d-a303-b820f59d8db0",
   "metadata": {
    "tags": []
   },
   "outputs": [
    {
     "name": "stdout",
     "output_type": "stream",
     "text": [
      "*   Backpack on hiking trail.\n",
      "*   Mountain scenery with gear.\n",
      "*   Trail map and backpack.\n"
     ]
    }
   ],
   "source": [
    "from google import genai\n",
    "from google.genai import types\n",
    "import base64\n",
    "\n",
    "def generate():\n",
    "  client = genai.Client(\n",
    "      vertexai=True,\n",
    "      project=\"qwiklabs-gcp-04-47dced368fb5\",\n",
    "      location=\"us-west1\",\n",
    "  )\n",
    "\n",
    "  image1 = types.Part.from_uri(\n",
    "      file_uri=\"gs://qwiklabs-gcp-04-47dced368fb5-labconfig-bucket/cymbal-product-image.png\",\n",
    "      mime_type=\"image/png\",\n",
    "  )\n",
    "  text1 = types.Part.from_text(text=\"\"\"Analyze the Cymbal Direct product image provided. Generate ,in less than 10 words, three different types of descriptive texts based on the image:\"\"\")\n",
    "\n",
    "  model = \"gemini-2.0-flash-001\"\n",
    "  contents = [\n",
    "    types.Content(\n",
    "      role=\"user\",\n",
    "      parts=[\n",
    "        image1,\n",
    "        text1\n",
    "      ]\n",
    "    )\n",
    "  ]\n",
    "  generate_content_config = types.GenerateContentConfig(\n",
    "    temperature = 1.4,\n",
    "    top_p = 0.95,\n",
    "    max_output_tokens = 8192,\n",
    "    response_modalities = [\"TEXT\"],\n",
    "  )\n",
    "\n",
    "  for chunk in client.models.generate_content_stream(\n",
    "    model = model,\n",
    "    contents = contents,\n",
    "    config = generate_content_config,\n",
    "    ):\n",
    "    print(chunk.text, end=\"\")\n",
    "\n",
    "generate()"
   ]
  },
  {
   "cell_type": "code",
   "execution_count": null,
   "id": "ad6bb39e-9cb4-45e7-b9f4-dffad7f631db",
   "metadata": {},
   "outputs": [],
   "source": []
  }
 ],
 "metadata": {
  "environment": {
   "kernel": "conda-base-py",
   "name": "workbench-notebooks.m128",
   "type": "gcloud",
   "uri": "us-docker.pkg.dev/deeplearning-platform-release/gcr.io/workbench-notebooks:m128"
  },
  "kernelspec": {
   "display_name": "Python 3 (ipykernel) (Local)",
   "language": "python",
   "name": "conda-base-py"
  },
  "language_info": {
   "codemirror_mode": {
    "name": "ipython",
    "version": 3
   },
   "file_extension": ".py",
   "mimetype": "text/x-python",
   "name": "python",
   "nbconvert_exporter": "python",
   "pygments_lexer": "ipython3",
   "version": "3.10.16"
  }
 },
 "nbformat": 4,
 "nbformat_minor": 5
}
